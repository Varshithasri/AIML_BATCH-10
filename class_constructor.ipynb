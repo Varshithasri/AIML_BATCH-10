{
  "nbformat": 4,
  "nbformat_minor": 0,
  "metadata": {
    "colab": {
      "provenance": [],
      "authorship_tag": "ABX9TyNLjKcIPHqdugeUX/Y55JXR",
      "include_colab_link": true
    },
    "kernelspec": {
      "name": "python3",
      "display_name": "Python 3"
    },
    "language_info": {
      "name": "python"
    }
  },
  "cells": [
    {
      "cell_type": "markdown",
      "metadata": {
        "id": "view-in-github",
        "colab_type": "text"
      },
      "source": [
        "<a href=\"https://colab.research.google.com/github/Varshithasri/AIML_BATCH-10/blob/main/class_constructor.ipynb\" target=\"_parent\"><img src=\"https://colab.research.google.com/assets/colab-badge.svg\" alt=\"Open In Colab\"/></a>"
      ]
    },
    {
      "cell_type": "code",
      "execution_count": 3,
      "metadata": {
        "id": "fwxHdli7jR_7"
      },
      "outputs": [],
      "source": [
        "def play_game(game,strategies:dict,verbose=False):\n",
        "  state=game.initial_state\n",
        "  while not game.is_terminal(state):\n",
        "    player=state['to move']\n",
        "    move=strategies[player](game,state)\n",
        "    state=game.result(state,move)\n",
        "    if verbose:\n",
        "      print('player',player,'move:',move)\n",
        "      print(state)\n",
        "      return state\n"
      ]
    }
  ]
}