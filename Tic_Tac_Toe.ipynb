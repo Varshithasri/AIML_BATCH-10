{
  "nbformat": 4,
  "nbformat_minor": 0,
  "metadata": {
    "colab": {
      "provenance": [],
      "authorship_tag": "ABX9TyP7ybAmPJ/tBvOcVJdvoFVO",
      "include_colab_link": true
    },
    "kernelspec": {
      "name": "python3",
      "display_name": "Python 3"
    },
    "language_info": {
      "name": "python"
    }
  },
  "cells": [
    {
      "cell_type": "markdown",
      "metadata": {
        "id": "view-in-github",
        "colab_type": "text"
      },
      "source": [
        "<a href=\"https://colab.research.google.com/github/Varshithasri/AIML_BATCH-10/blob/main/Tic_Tac_Toe.ipynb\" target=\"_parent\"><img src=\"https://colab.research.google.com/assets/colab-badge.svg\" alt=\"Open In Colab\"/></a>"
      ]
    },
    {
      "cell_type": "code",
      "execution_count": 1,
      "metadata": {
        "colab": {
          "base_uri": "https://localhost:8080/"
        },
        "id": "ty9KsnRyfzvL",
        "outputId": "d2429f63-7221-4031-a085-2c18b79a3040"
      },
      "outputs": [
        {
          "output_type": "stream",
          "name": "stdout",
          "text": [
            "[(0, 0), (0, 1), (0, 2), (1, 0), (1, 1), (1, 2), (2, 0), (2, 1), (2, 2)]\n"
          ]
        }
      ],
      "source": [
        "import collections\n",
        "import random\n",
        "import math\n",
        "import functools\n",
        "\n",
        "# Cache decorator for memoization\n",
        "cache = functools.lru_cache(10**6)\n",
        "\n",
        "class Game:\n",
        "    def __init__(self, initial_state):\n",
        "        self.initial_state = initial_state\n",
        "\n",
        "    def actions(self, state):\n",
        "        \"\"\"Return a collection of the allowable moves from this state.\"\"\"\n",
        "        raise NotImplementedError\n",
        "\n",
        "    def result(self, state, move):\n",
        "        \"\"\"Return the state that results from making a move from a state.\"\"\"\n",
        "        raise NotImplementedError\n",
        "\n",
        "    def is_terminal(self, state):\n",
        "        \"\"\"Return True if this is a final state for the game.\"\"\"\n",
        "        return not self.actions(state)\n",
        "\n",
        "    def utility(self, state, player):\n",
        "        \"\"\"Return the value of this final state to player.\"\"\"\n",
        "        raise NotImplementedError\n",
        "\n",
        "# Example of a game subclass (Tic Tac Toe)\n",
        "class TicTacToe(Game):\n",
        "    def actions(self, state):\n",
        "        \"\"\"Return a collection of allowable moves from this state.\"\"\"\n",
        "        return [(i, j) for i in range(3) for j in range(3) if state[i][j] == ' ']\n",
        "\n",
        "    def result(self, state, move):\n",
        "        \"\"\"Return the state that results from making a move from a state.\"\"\"\n",
        "        i, j = move\n",
        "        player = 'X' if sum(row.count('X') for row in state) <= sum(row.count('O') for row in state) else 'O'\n",
        "        new_state = [row[:] for row in state]\n",
        "        new_state[i][j] = player\n",
        "        return new_state\n",
        "\n",
        "    def utility(self, state, player):\n",
        "        \"\"\"Return the value of this final state to player.\"\"\"\n",
        "        if self.is_winner(state, 'X'):\n",
        "            return 1 if player == 'X' else -1\n",
        "        elif self.is_winner(state, 'O'):\n",
        "            return 1 if player == 'O' else -1\n",
        "        else:\n",
        "            return 0\n",
        "\n",
        "    def is_winner(self, state, player):\n",
        "        \"\"\"Check if the player has won.\"\"\"\n",
        "        for i in range(3):\n",
        "            if all(cell == player for cell in state[i]):\n",
        "                return True\n",
        "            if all(state[j][i] == player for j in range(3)):\n",
        "                return True\n",
        "        if all(state[i][i] == player for i in range(3)) or all(state[i][2 - i] == player for i in range(3)):\n",
        "            return True\n",
        "        return False\n",
        "\n",
        "# Example usage\n",
        "initial_state = [[' ']*3 for _ in range(3)]  # Empty board for Tic Tac Toe\n",
        "game = TicTacToe(initial_state)\n",
        "print(game.actions(initial_state))\n"
      ]
    }
  ]
}